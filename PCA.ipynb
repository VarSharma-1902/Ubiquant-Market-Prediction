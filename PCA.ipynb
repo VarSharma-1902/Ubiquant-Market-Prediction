{
 "cells": [
  {
   "cell_type": "markdown",
   "metadata": {},
   "source": [
    "## Exploratory Data Analytics - Ubiquant Stock Market "
   ]
  },
  {
   "cell_type": "code",
   "execution_count": 4,
   "metadata": {},
   "outputs": [],
   "source": [
    "import pandas as pd\n",
    "import numpy as np\n",
    "import matplotlib.pyplot as plt\n",
    "import seaborn as sns"
   ]
  },
  {
   "cell_type": "code",
   "execution_count": 5,
   "metadata": {},
   "outputs": [],
   "source": [
    "data = pd.read_csv(\"reduced_df.csv\")"
   ]
  },
  {
   "cell_type": "code",
   "execution_count": 6,
   "metadata": {},
   "outputs": [],
   "source": [
    "X = data[['f_0','f_1','f_2','f_3','f_4','f_5','f_6','f_7','f_8','f_9','f_10','f_11','f_12','f_13','f_14','f_15','f_16','f_17',\n",
    "'f_18','f_19','f_20','f_21','f_22','f_23','f_24','f_25','f_26','f_27','f_28','f_29','f_30','f_31','f_32','f_33','f_34','f_35',\n",
    "'f_36','f_37','f_38','f_39','f_40','f_41','f_42','f_43','f_44','f_45','f_46','f_47','f_48','f_49','f_50','f_51','f_52','f_53',\n",
    "'f_54','f_55','f_56','f_57','f_58','f_59','f_60','f_61','f_62','f_63','f_64','f_65','f_66','f_67','f_68','f_69','f_70','f_71',\n",
    "'f_72','f_73','f_74','f_75','f_76','f_77','f_78','f_79','f_80','f_81','f_82','f_83','f_84','f_85','f_86','f_87','f_88','f_89',\n",
    "'f_90','f_91','f_92','f_93','f_94','f_95','f_96','f_97','f_98','f_99','f_100','f_101','f_102','f_103','f_104','f_105','f_106',\n",
    "'f_107','f_108','f_109','f_110','f_111','f_112','f_113','f_114','f_115','f_116','f_117','f_118','f_119','f_120','f_121','f_122',\n",
    "'f_123','f_124','f_125','f_126','f_127','f_128','f_129','f_130','f_131','f_132','f_133','f_134','f_135','f_136','f_137','f_138',\n",
    "'f_139','f_140','f_141','f_142','f_143','f_144','f_145','f_146','f_147','f_148','f_149','f_150','f_151','f_152','f_153','f_154',\n",
    "'f_155','f_156','f_157','f_158','f_159','f_160','f_161','f_162','f_163','f_164','f_165','f_166','f_167','f_168','f_169','f_170',\n",
    "'f_171','f_172','f_173','f_174','f_175','f_176','f_177','f_178','f_179','f_180','f_181','f_182','f_183','f_184','f_185','f_186',\n",
    "'f_187','f_188','f_189','f_190','f_191','f_192','f_193','f_194','f_195','f_196','f_197','f_198','f_199','f_200','f_201','f_202',\n",
    "'f_203','f_204','f_205','f_206','f_207','f_208','f_209','f_210','f_211','f_212','f_213','f_214','f_215','f_216','f_217','f_218',\n",
    "'f_219','f_220','f_221','f_222','f_223','f_224','f_225','f_226','f_227','f_228','f_229','f_230','f_231','f_232','f_233','f_234',\n",
    "'f_235','f_236','f_237','f_238','f_239','f_240','f_241','f_242','f_243','f_244','f_245','f_246','f_247','f_248','f_249','f_250',\n",
    "'f_251','f_252','f_253','f_254','f_255','f_256','f_257','f_258','f_259','f_260','f_261','f_262','f_263','f_264','f_265','f_266',\n",
    "'f_267','f_268','f_269','f_270','f_271','f_272','f_273','f_274','f_275','f_276','f_277','f_278','f_279','f_280','f_281','f_282',\n",
    "'f_283','f_284','f_285','f_286','f_287','f_288','f_289','f_290','f_291','f_292','f_293','f_294','f_295','f_296','f_297','f_298',\n",
    "'f_299']]\n",
    "\n",
    "y = data['target']"
   ]
  },
  {
   "cell_type": "markdown",
   "metadata": {},
   "source": [
    "<b> We Apply the Concept of Principal Component Analysis to the Dataset in order to reduce the 300 Features to 50 Features. This will help us reduce the dimensions of the Input Features, and ease the process of applying multiple models to the Dataset in order to Compare the Results and Obtain the best Model </b>"
   ]
  },
  {
   "cell_type": "code",
   "execution_count": 7,
   "metadata": {},
   "outputs": [],
   "source": [
    "from sklearn.decomposition import PCA\n",
    " \n",
    "pca = PCA(n_components = 50)\n",
    "X_new = pca.fit_transform(X)\n",
    "explained_variance = pca.explained_variance_ratio_"
   ]
  },
  {
   "cell_type": "code",
   "execution_count": 8,
   "metadata": {
    "scrolled": true
   },
   "outputs": [
    {
     "data": {
      "text/html": [
       "<div>\n",
       "<style scoped>\n",
       "    .dataframe tbody tr th:only-of-type {\n",
       "        vertical-align: middle;\n",
       "    }\n",
       "\n",
       "    .dataframe tbody tr th {\n",
       "        vertical-align: top;\n",
       "    }\n",
       "\n",
       "    .dataframe thead th {\n",
       "        text-align: right;\n",
       "    }\n",
       "</style>\n",
       "<table border=\"1\" class=\"dataframe\">\n",
       "  <thead>\n",
       "    <tr style=\"text-align: right;\">\n",
       "      <th></th>\n",
       "      <th>0</th>\n",
       "      <th>1</th>\n",
       "      <th>2</th>\n",
       "      <th>3</th>\n",
       "      <th>4</th>\n",
       "      <th>5</th>\n",
       "      <th>6</th>\n",
       "      <th>7</th>\n",
       "      <th>8</th>\n",
       "      <th>9</th>\n",
       "      <th>...</th>\n",
       "      <th>41</th>\n",
       "      <th>42</th>\n",
       "      <th>43</th>\n",
       "      <th>44</th>\n",
       "      <th>45</th>\n",
       "      <th>46</th>\n",
       "      <th>47</th>\n",
       "      <th>48</th>\n",
       "      <th>49</th>\n",
       "      <th>target</th>\n",
       "    </tr>\n",
       "  </thead>\n",
       "  <tbody>\n",
       "    <tr>\n",
       "      <th>0</th>\n",
       "      <td>5.930771</td>\n",
       "      <td>2.824082</td>\n",
       "      <td>-6.391417</td>\n",
       "      <td>-0.642561</td>\n",
       "      <td>0.846316</td>\n",
       "      <td>0.198980</td>\n",
       "      <td>2.039741</td>\n",
       "      <td>1.618770</td>\n",
       "      <td>-2.733506</td>\n",
       "      <td>-1.212307</td>\n",
       "      <td>...</td>\n",
       "      <td>-2.007940</td>\n",
       "      <td>1.628662</td>\n",
       "      <td>0.241157</td>\n",
       "      <td>-0.100084</td>\n",
       "      <td>-2.554118</td>\n",
       "      <td>0.011201</td>\n",
       "      <td>-0.627221</td>\n",
       "      <td>-0.470128</td>\n",
       "      <td>-0.666375</td>\n",
       "      <td>-0.300875</td>\n",
       "    </tr>\n",
       "    <tr>\n",
       "      <th>1</th>\n",
       "      <td>-1.979082</td>\n",
       "      <td>5.205640</td>\n",
       "      <td>4.769115</td>\n",
       "      <td>1.021418</td>\n",
       "      <td>-2.399526</td>\n",
       "      <td>-4.065726</td>\n",
       "      <td>-0.410048</td>\n",
       "      <td>-1.588963</td>\n",
       "      <td>-1.065789</td>\n",
       "      <td>-0.093744</td>\n",
       "      <td>...</td>\n",
       "      <td>-1.406247</td>\n",
       "      <td>2.137780</td>\n",
       "      <td>-0.231313</td>\n",
       "      <td>1.770612</td>\n",
       "      <td>-0.304369</td>\n",
       "      <td>1.512396</td>\n",
       "      <td>0.919627</td>\n",
       "      <td>-0.830171</td>\n",
       "      <td>0.325942</td>\n",
       "      <td>-0.231040</td>\n",
       "    </tr>\n",
       "    <tr>\n",
       "      <th>2</th>\n",
       "      <td>0.060884</td>\n",
       "      <td>-0.208156</td>\n",
       "      <td>-5.462405</td>\n",
       "      <td>2.508530</td>\n",
       "      <td>3.332347</td>\n",
       "      <td>-1.066171</td>\n",
       "      <td>0.667934</td>\n",
       "      <td>-0.327424</td>\n",
       "      <td>-2.105686</td>\n",
       "      <td>0.333933</td>\n",
       "      <td>...</td>\n",
       "      <td>0.486018</td>\n",
       "      <td>-0.368881</td>\n",
       "      <td>0.049094</td>\n",
       "      <td>0.140143</td>\n",
       "      <td>0.304171</td>\n",
       "      <td>0.183573</td>\n",
       "      <td>1.284293</td>\n",
       "      <td>-1.388055</td>\n",
       "      <td>-0.731574</td>\n",
       "      <td>0.568807</td>\n",
       "    </tr>\n",
       "    <tr>\n",
       "      <th>3</th>\n",
       "      <td>-8.785642</td>\n",
       "      <td>5.701728</td>\n",
       "      <td>-2.182945</td>\n",
       "      <td>-1.501638</td>\n",
       "      <td>-1.258525</td>\n",
       "      <td>0.732001</td>\n",
       "      <td>3.611305</td>\n",
       "      <td>0.652125</td>\n",
       "      <td>0.580285</td>\n",
       "      <td>-1.092369</td>\n",
       "      <td>...</td>\n",
       "      <td>-0.205032</td>\n",
       "      <td>0.039889</td>\n",
       "      <td>0.277333</td>\n",
       "      <td>-1.541842</td>\n",
       "      <td>1.179722</td>\n",
       "      <td>-0.394019</td>\n",
       "      <td>-0.727256</td>\n",
       "      <td>0.218874</td>\n",
       "      <td>1.443269</td>\n",
       "      <td>-1.064780</td>\n",
       "    </tr>\n",
       "    <tr>\n",
       "      <th>4</th>\n",
       "      <td>-13.456921</td>\n",
       "      <td>-1.051678</td>\n",
       "      <td>-1.098693</td>\n",
       "      <td>-2.687385</td>\n",
       "      <td>-1.377835</td>\n",
       "      <td>-3.376065</td>\n",
       "      <td>3.060878</td>\n",
       "      <td>0.418250</td>\n",
       "      <td>5.010150</td>\n",
       "      <td>-1.292009</td>\n",
       "      <td>...</td>\n",
       "      <td>-0.137965</td>\n",
       "      <td>0.197945</td>\n",
       "      <td>-0.478897</td>\n",
       "      <td>-0.612334</td>\n",
       "      <td>0.185505</td>\n",
       "      <td>-0.492317</td>\n",
       "      <td>0.707328</td>\n",
       "      <td>-0.036302</td>\n",
       "      <td>0.155449</td>\n",
       "      <td>-0.531940</td>\n",
       "    </tr>\n",
       "    <tr>\n",
       "      <th>5</th>\n",
       "      <td>8.922795</td>\n",
       "      <td>0.762759</td>\n",
       "      <td>-6.022472</td>\n",
       "      <td>-6.199827</td>\n",
       "      <td>1.092391</td>\n",
       "      <td>-0.642928</td>\n",
       "      <td>-1.028266</td>\n",
       "      <td>-0.473390</td>\n",
       "      <td>-0.076392</td>\n",
       "      <td>1.064619</td>\n",
       "      <td>...</td>\n",
       "      <td>-0.139460</td>\n",
       "      <td>0.833840</td>\n",
       "      <td>0.583543</td>\n",
       "      <td>-1.275726</td>\n",
       "      <td>-0.906581</td>\n",
       "      <td>0.037387</td>\n",
       "      <td>0.062450</td>\n",
       "      <td>1.394903</td>\n",
       "      <td>-0.116401</td>\n",
       "      <td>1.505904</td>\n",
       "    </tr>\n",
       "    <tr>\n",
       "      <th>6</th>\n",
       "      <td>-9.385422</td>\n",
       "      <td>-0.970014</td>\n",
       "      <td>2.629263</td>\n",
       "      <td>-0.920374</td>\n",
       "      <td>-1.298078</td>\n",
       "      <td>-1.779595</td>\n",
       "      <td>4.558604</td>\n",
       "      <td>1.041134</td>\n",
       "      <td>-0.991810</td>\n",
       "      <td>1.403667</td>\n",
       "      <td>...</td>\n",
       "      <td>0.979368</td>\n",
       "      <td>-0.652847</td>\n",
       "      <td>-1.038307</td>\n",
       "      <td>-0.285766</td>\n",
       "      <td>0.697676</td>\n",
       "      <td>-0.868228</td>\n",
       "      <td>-0.012259</td>\n",
       "      <td>0.995066</td>\n",
       "      <td>1.521898</td>\n",
       "      <td>-0.260731</td>\n",
       "    </tr>\n",
       "    <tr>\n",
       "      <th>7</th>\n",
       "      <td>-3.950835</td>\n",
       "      <td>1.634322</td>\n",
       "      <td>3.863835</td>\n",
       "      <td>2.752713</td>\n",
       "      <td>1.266304</td>\n",
       "      <td>-1.674165</td>\n",
       "      <td>-1.367761</td>\n",
       "      <td>-2.863542</td>\n",
       "      <td>-0.348253</td>\n",
       "      <td>1.163306</td>\n",
       "      <td>...</td>\n",
       "      <td>-0.830711</td>\n",
       "      <td>-0.956272</td>\n",
       "      <td>-0.811298</td>\n",
       "      <td>2.072946</td>\n",
       "      <td>0.322349</td>\n",
       "      <td>0.107293</td>\n",
       "      <td>-1.443461</td>\n",
       "      <td>-1.066221</td>\n",
       "      <td>-0.225511</td>\n",
       "      <td>-0.469207</td>\n",
       "    </tr>\n",
       "    <tr>\n",
       "      <th>8</th>\n",
       "      <td>10.272165</td>\n",
       "      <td>-12.048630</td>\n",
       "      <td>4.985633</td>\n",
       "      <td>-5.185841</td>\n",
       "      <td>5.790271</td>\n",
       "      <td>1.853501</td>\n",
       "      <td>10.185525</td>\n",
       "      <td>-7.944356</td>\n",
       "      <td>1.768346</td>\n",
       "      <td>5.040626</td>\n",
       "      <td>...</td>\n",
       "      <td>2.824415</td>\n",
       "      <td>0.303004</td>\n",
       "      <td>0.114004</td>\n",
       "      <td>2.261560</td>\n",
       "      <td>1.525124</td>\n",
       "      <td>-0.874600</td>\n",
       "      <td>0.589227</td>\n",
       "      <td>0.709322</td>\n",
       "      <td>-0.216164</td>\n",
       "      <td>0.094525</td>\n",
       "    </tr>\n",
       "    <tr>\n",
       "      <th>9</th>\n",
       "      <td>-13.123878</td>\n",
       "      <td>0.622628</td>\n",
       "      <td>2.214304</td>\n",
       "      <td>-1.619364</td>\n",
       "      <td>-2.535647</td>\n",
       "      <td>0.067408</td>\n",
       "      <td>0.808640</td>\n",
       "      <td>3.572927</td>\n",
       "      <td>2.761413</td>\n",
       "      <td>-0.042207</td>\n",
       "      <td>...</td>\n",
       "      <td>-0.282719</td>\n",
       "      <td>-1.105133</td>\n",
       "      <td>0.490323</td>\n",
       "      <td>-0.569730</td>\n",
       "      <td>0.198101</td>\n",
       "      <td>0.868305</td>\n",
       "      <td>0.179927</td>\n",
       "      <td>0.311260</td>\n",
       "      <td>1.133918</td>\n",
       "      <td>-0.251120</td>\n",
       "    </tr>\n",
       "  </tbody>\n",
       "</table>\n",
       "<p>10 rows × 51 columns</p>\n",
       "</div>"
      ],
      "text/plain": [
       "           0          1         2         3         4         5          6  \\\n",
       "0   5.930771   2.824082 -6.391417 -0.642561  0.846316  0.198980   2.039741   \n",
       "1  -1.979082   5.205640  4.769115  1.021418 -2.399526 -4.065726  -0.410048   \n",
       "2   0.060884  -0.208156 -5.462405  2.508530  3.332347 -1.066171   0.667934   \n",
       "3  -8.785642   5.701728 -2.182945 -1.501638 -1.258525  0.732001   3.611305   \n",
       "4 -13.456921  -1.051678 -1.098693 -2.687385 -1.377835 -3.376065   3.060878   \n",
       "5   8.922795   0.762759 -6.022472 -6.199827  1.092391 -0.642928  -1.028266   \n",
       "6  -9.385422  -0.970014  2.629263 -0.920374 -1.298078 -1.779595   4.558604   \n",
       "7  -3.950835   1.634322  3.863835  2.752713  1.266304 -1.674165  -1.367761   \n",
       "8  10.272165 -12.048630  4.985633 -5.185841  5.790271  1.853501  10.185525   \n",
       "9 -13.123878   0.622628  2.214304 -1.619364 -2.535647  0.067408   0.808640   \n",
       "\n",
       "          7         8         9  ...        41        42        43        44  \\\n",
       "0  1.618770 -2.733506 -1.212307  ... -2.007940  1.628662  0.241157 -0.100084   \n",
       "1 -1.588963 -1.065789 -0.093744  ... -1.406247  2.137780 -0.231313  1.770612   \n",
       "2 -0.327424 -2.105686  0.333933  ...  0.486018 -0.368881  0.049094  0.140143   \n",
       "3  0.652125  0.580285 -1.092369  ... -0.205032  0.039889  0.277333 -1.541842   \n",
       "4  0.418250  5.010150 -1.292009  ... -0.137965  0.197945 -0.478897 -0.612334   \n",
       "5 -0.473390 -0.076392  1.064619  ... -0.139460  0.833840  0.583543 -1.275726   \n",
       "6  1.041134 -0.991810  1.403667  ...  0.979368 -0.652847 -1.038307 -0.285766   \n",
       "7 -2.863542 -0.348253  1.163306  ... -0.830711 -0.956272 -0.811298  2.072946   \n",
       "8 -7.944356  1.768346  5.040626  ...  2.824415  0.303004  0.114004  2.261560   \n",
       "9  3.572927  2.761413 -0.042207  ... -0.282719 -1.105133  0.490323 -0.569730   \n",
       "\n",
       "         45        46        47        48        49    target  \n",
       "0 -2.554118  0.011201 -0.627221 -0.470128 -0.666375 -0.300875  \n",
       "1 -0.304369  1.512396  0.919627 -0.830171  0.325942 -0.231040  \n",
       "2  0.304171  0.183573  1.284293 -1.388055 -0.731574  0.568807  \n",
       "3  1.179722 -0.394019 -0.727256  0.218874  1.443269 -1.064780  \n",
       "4  0.185505 -0.492317  0.707328 -0.036302  0.155449 -0.531940  \n",
       "5 -0.906581  0.037387  0.062450  1.394903 -0.116401  1.505904  \n",
       "6  0.697676 -0.868228 -0.012259  0.995066  1.521898 -0.260731  \n",
       "7  0.322349  0.107293 -1.443461 -1.066221 -0.225511 -0.469207  \n",
       "8  1.525124 -0.874600  0.589227  0.709322 -0.216164  0.094525  \n",
       "9  0.198101  0.868305  0.179927  0.311260  1.133918 -0.251120  \n",
       "\n",
       "[10 rows x 51 columns]"
      ]
     },
     "execution_count": 8,
     "metadata": {},
     "output_type": "execute_result"
    }
   ],
   "source": [
    "X_new = pd.DataFrame(X_new)\n",
    "y = pd.DataFrame(y)\n",
    "data = pd.concat([X_new,y],axis=1)\n",
    "data.head(10)"
   ]
  },
  {
   "cell_type": "markdown",
   "metadata": {},
   "source": [
    "<b> The New Dataset Obtained after Reduction of the Dimensions is give Above </b>"
   ]
  },
  {
   "cell_type": "code",
   "execution_count": 9,
   "metadata": {},
   "outputs": [
    {
     "name": "stdout",
     "output_type": "stream",
     "text": [
      "<class 'pandas.core.frame.DataFrame'>\n",
      "RangeIndex: 4000 entries, 0 to 3999\n",
      "Data columns (total 51 columns):\n",
      " #   Column  Non-Null Count  Dtype  \n",
      "---  ------  --------------  -----  \n",
      " 0   0       4000 non-null   float64\n",
      " 1   1       4000 non-null   float64\n",
      " 2   2       4000 non-null   float64\n",
      " 3   3       4000 non-null   float64\n",
      " 4   4       4000 non-null   float64\n",
      " 5   5       4000 non-null   float64\n",
      " 6   6       4000 non-null   float64\n",
      " 7   7       4000 non-null   float64\n",
      " 8   8       4000 non-null   float64\n",
      " 9   9       4000 non-null   float64\n",
      " 10  10      4000 non-null   float64\n",
      " 11  11      4000 non-null   float64\n",
      " 12  12      4000 non-null   float64\n",
      " 13  13      4000 non-null   float64\n",
      " 14  14      4000 non-null   float64\n",
      " 15  15      4000 non-null   float64\n",
      " 16  16      4000 non-null   float64\n",
      " 17  17      4000 non-null   float64\n",
      " 18  18      4000 non-null   float64\n",
      " 19  19      4000 non-null   float64\n",
      " 20  20      4000 non-null   float64\n",
      " 21  21      4000 non-null   float64\n",
      " 22  22      4000 non-null   float64\n",
      " 23  23      4000 non-null   float64\n",
      " 24  24      4000 non-null   float64\n",
      " 25  25      4000 non-null   float64\n",
      " 26  26      4000 non-null   float64\n",
      " 27  27      4000 non-null   float64\n",
      " 28  28      4000 non-null   float64\n",
      " 29  29      4000 non-null   float64\n",
      " 30  30      4000 non-null   float64\n",
      " 31  31      4000 non-null   float64\n",
      " 32  32      4000 non-null   float64\n",
      " 33  33      4000 non-null   float64\n",
      " 34  34      4000 non-null   float64\n",
      " 35  35      4000 non-null   float64\n",
      " 36  36      4000 non-null   float64\n",
      " 37  37      4000 non-null   float64\n",
      " 38  38      4000 non-null   float64\n",
      " 39  39      4000 non-null   float64\n",
      " 40  40      4000 non-null   float64\n",
      " 41  41      4000 non-null   float64\n",
      " 42  42      4000 non-null   float64\n",
      " 43  43      4000 non-null   float64\n",
      " 44  44      4000 non-null   float64\n",
      " 45  45      4000 non-null   float64\n",
      " 46  46      4000 non-null   float64\n",
      " 47  47      4000 non-null   float64\n",
      " 48  48      4000 non-null   float64\n",
      " 49  49      4000 non-null   float64\n",
      " 50  target  4000 non-null   float64\n",
      "dtypes: float64(51)\n",
      "memory usage: 1.6 MB\n"
     ]
    }
   ],
   "source": [
    "data.info()"
   ]
  },
  {
   "cell_type": "code",
   "execution_count": 10,
   "metadata": {},
   "outputs": [
    {
     "data": {
      "text/html": [
       "<div>\n",
       "<style scoped>\n",
       "    .dataframe tbody tr th:only-of-type {\n",
       "        vertical-align: middle;\n",
       "    }\n",
       "\n",
       "    .dataframe tbody tr th {\n",
       "        vertical-align: top;\n",
       "    }\n",
       "\n",
       "    .dataframe thead th {\n",
       "        text-align: right;\n",
       "    }\n",
       "</style>\n",
       "<table border=\"1\" class=\"dataframe\">\n",
       "  <thead>\n",
       "    <tr style=\"text-align: right;\">\n",
       "      <th></th>\n",
       "      <th>0</th>\n",
       "      <th>1</th>\n",
       "      <th>2</th>\n",
       "      <th>3</th>\n",
       "      <th>4</th>\n",
       "      <th>5</th>\n",
       "      <th>6</th>\n",
       "      <th>7</th>\n",
       "      <th>8</th>\n",
       "      <th>9</th>\n",
       "      <th>...</th>\n",
       "      <th>41</th>\n",
       "      <th>42</th>\n",
       "      <th>43</th>\n",
       "      <th>44</th>\n",
       "      <th>45</th>\n",
       "      <th>46</th>\n",
       "      <th>47</th>\n",
       "      <th>48</th>\n",
       "      <th>49</th>\n",
       "      <th>target</th>\n",
       "    </tr>\n",
       "  </thead>\n",
       "  <tbody>\n",
       "    <tr>\n",
       "      <th>count</th>\n",
       "      <td>4.000000e+03</td>\n",
       "      <td>4.000000e+03</td>\n",
       "      <td>4.000000e+03</td>\n",
       "      <td>4.000000e+03</td>\n",
       "      <td>4.000000e+03</td>\n",
       "      <td>4.000000e+03</td>\n",
       "      <td>4.000000e+03</td>\n",
       "      <td>4.000000e+03</td>\n",
       "      <td>4.000000e+03</td>\n",
       "      <td>4.000000e+03</td>\n",
       "      <td>...</td>\n",
       "      <td>4.000000e+03</td>\n",
       "      <td>4.000000e+03</td>\n",
       "      <td>4.000000e+03</td>\n",
       "      <td>4.000000e+03</td>\n",
       "      <td>4.000000e+03</td>\n",
       "      <td>4.000000e+03</td>\n",
       "      <td>4.000000e+03</td>\n",
       "      <td>4.000000e+03</td>\n",
       "      <td>4.000000e+03</td>\n",
       "      <td>4000.000000</td>\n",
       "    </tr>\n",
       "    <tr>\n",
       "      <th>mean</th>\n",
       "      <td>1.052491e-16</td>\n",
       "      <td>2.371436e-16</td>\n",
       "      <td>6.317169e-17</td>\n",
       "      <td>-2.052802e-16</td>\n",
       "      <td>-1.011413e-16</td>\n",
       "      <td>1.043610e-17</td>\n",
       "      <td>1.951772e-16</td>\n",
       "      <td>1.430488e-16</td>\n",
       "      <td>-2.412237e-16</td>\n",
       "      <td>6.580847e-17</td>\n",
       "      <td>...</td>\n",
       "      <td>-2.208789e-16</td>\n",
       "      <td>9.697711e-17</td>\n",
       "      <td>3.967660e-16</td>\n",
       "      <td>6.243339e-16</td>\n",
       "      <td>5.597189e-16</td>\n",
       "      <td>-3.688716e-17</td>\n",
       "      <td>-4.696521e-16</td>\n",
       "      <td>4.357625e-18</td>\n",
       "      <td>-5.289727e-16</td>\n",
       "      <td>-0.026119</td>\n",
       "    </tr>\n",
       "    <tr>\n",
       "      <th>std</th>\n",
       "      <td>8.639899e+00</td>\n",
       "      <td>4.891792e+00</td>\n",
       "      <td>3.993423e+00</td>\n",
       "      <td>3.571303e+00</td>\n",
       "      <td>3.186306e+00</td>\n",
       "      <td>2.898071e+00</td>\n",
       "      <td>2.590288e+00</td>\n",
       "      <td>2.214837e+00</td>\n",
       "      <td>2.175826e+00</td>\n",
       "      <td>2.036805e+00</td>\n",
       "      <td>...</td>\n",
       "      <td>1.017721e+00</td>\n",
       "      <td>9.905358e-01</td>\n",
       "      <td>9.885335e-01</td>\n",
       "      <td>9.720861e-01</td>\n",
       "      <td>9.640381e-01</td>\n",
       "      <td>9.581234e-01</td>\n",
       "      <td>9.385330e-01</td>\n",
       "      <td>9.292261e-01</td>\n",
       "      <td>9.159119e-01</td>\n",
       "      <td>0.938427</td>\n",
       "    </tr>\n",
       "    <tr>\n",
       "      <th>min</th>\n",
       "      <td>-1.654847e+01</td>\n",
       "      <td>-1.681398e+01</td>\n",
       "      <td>-1.176662e+01</td>\n",
       "      <td>-1.955376e+01</td>\n",
       "      <td>-1.020270e+01</td>\n",
       "      <td>-1.151606e+01</td>\n",
       "      <td>-6.848372e+00</td>\n",
       "      <td>-8.190248e+00</td>\n",
       "      <td>-6.658143e+00</td>\n",
       "      <td>-5.638952e+00</td>\n",
       "      <td>...</td>\n",
       "      <td>-5.208845e+00</td>\n",
       "      <td>-5.214630e+00</td>\n",
       "      <td>-3.905488e+00</td>\n",
       "      <td>-6.968832e+00</td>\n",
       "      <td>-5.051113e+00</td>\n",
       "      <td>-5.246564e+00</td>\n",
       "      <td>-5.239374e+00</td>\n",
       "      <td>-4.792478e+00</td>\n",
       "      <td>-5.232554e+00</td>\n",
       "      <td>-3.533816</td>\n",
       "    </tr>\n",
       "    <tr>\n",
       "      <th>25%</th>\n",
       "      <td>-6.719304e+00</td>\n",
       "      <td>-3.191688e+00</td>\n",
       "      <td>-2.839173e+00</td>\n",
       "      <td>-2.074523e+00</td>\n",
       "      <td>-2.191912e+00</td>\n",
       "      <td>-2.028758e+00</td>\n",
       "      <td>-1.690625e+00</td>\n",
       "      <td>-1.400258e+00</td>\n",
       "      <td>-1.418321e+00</td>\n",
       "      <td>-1.048579e+00</td>\n",
       "      <td>...</td>\n",
       "      <td>-6.373015e-01</td>\n",
       "      <td>-5.892359e-01</td>\n",
       "      <td>-6.536322e-01</td>\n",
       "      <td>-5.972682e-01</td>\n",
       "      <td>-5.925543e-01</td>\n",
       "      <td>-5.651667e-01</td>\n",
       "      <td>-5.939642e-01</td>\n",
       "      <td>-5.900847e-01</td>\n",
       "      <td>-5.718270e-01</td>\n",
       "      <td>-0.599293</td>\n",
       "    </tr>\n",
       "    <tr>\n",
       "      <th>50%</th>\n",
       "      <td>-1.027070e+00</td>\n",
       "      <td>-1.076588e-01</td>\n",
       "      <td>-6.417360e-02</td>\n",
       "      <td>-1.416977e-01</td>\n",
       "      <td>-1.545250e-01</td>\n",
       "      <td>-1.793890e-01</td>\n",
       "      <td>-8.211011e-02</td>\n",
       "      <td>3.706215e-03</td>\n",
       "      <td>-1.587031e-01</td>\n",
       "      <td>-1.939841e-01</td>\n",
       "      <td>...</td>\n",
       "      <td>1.309451e-02</td>\n",
       "      <td>-2.063838e-02</td>\n",
       "      <td>6.123746e-03</td>\n",
       "      <td>-1.601771e-02</td>\n",
       "      <td>1.008460e-02</td>\n",
       "      <td>3.498735e-02</td>\n",
       "      <td>3.210461e-03</td>\n",
       "      <td>-9.561011e-03</td>\n",
       "      <td>1.020734e-02</td>\n",
       "      <td>-0.163023</td>\n",
       "    </tr>\n",
       "    <tr>\n",
       "      <th>75%</th>\n",
       "      <td>5.706179e+00</td>\n",
       "      <td>3.194787e+00</td>\n",
       "      <td>2.649876e+00</td>\n",
       "      <td>1.873249e+00</td>\n",
       "      <td>2.032157e+00</td>\n",
       "      <td>1.862257e+00</td>\n",
       "      <td>1.613543e+00</td>\n",
       "      <td>1.366865e+00</td>\n",
       "      <td>1.224433e+00</td>\n",
       "      <td>6.740905e-01</td>\n",
       "      <td>...</td>\n",
       "      <td>6.223500e-01</td>\n",
       "      <td>5.527913e-01</td>\n",
       "      <td>6.415080e-01</td>\n",
       "      <td>6.037429e-01</td>\n",
       "      <td>6.050462e-01</td>\n",
       "      <td>6.029267e-01</td>\n",
       "      <td>5.924228e-01</td>\n",
       "      <td>5.700348e-01</td>\n",
       "      <td>5.717450e-01</td>\n",
       "      <td>0.373401</td>\n",
       "    </tr>\n",
       "    <tr>\n",
       "      <th>max</th>\n",
       "      <td>4.190650e+01</td>\n",
       "      <td>2.052549e+01</td>\n",
       "      <td>1.647855e+01</td>\n",
       "      <td>2.308928e+01</td>\n",
       "      <td>1.191708e+01</td>\n",
       "      <td>1.294227e+01</td>\n",
       "      <td>1.442746e+01</td>\n",
       "      <td>1.373804e+01</td>\n",
       "      <td>1.391239e+01</td>\n",
       "      <td>2.119347e+01</td>\n",
       "      <td>...</td>\n",
       "      <td>6.827875e+00</td>\n",
       "      <td>1.368076e+01</td>\n",
       "      <td>4.862496e+00</td>\n",
       "      <td>8.836113e+00</td>\n",
       "      <td>5.660672e+00</td>\n",
       "      <td>5.304269e+00</td>\n",
       "      <td>5.990156e+00</td>\n",
       "      <td>4.987436e+00</td>\n",
       "      <td>6.382930e+00</td>\n",
       "      <td>7.729597</td>\n",
       "    </tr>\n",
       "  </tbody>\n",
       "</table>\n",
       "<p>8 rows × 51 columns</p>\n",
       "</div>"
      ],
      "text/plain": [
       "                  0             1             2             3             4  \\\n",
       "count  4.000000e+03  4.000000e+03  4.000000e+03  4.000000e+03  4.000000e+03   \n",
       "mean   1.052491e-16  2.371436e-16  6.317169e-17 -2.052802e-16 -1.011413e-16   \n",
       "std    8.639899e+00  4.891792e+00  3.993423e+00  3.571303e+00  3.186306e+00   \n",
       "min   -1.654847e+01 -1.681398e+01 -1.176662e+01 -1.955376e+01 -1.020270e+01   \n",
       "25%   -6.719304e+00 -3.191688e+00 -2.839173e+00 -2.074523e+00 -2.191912e+00   \n",
       "50%   -1.027070e+00 -1.076588e-01 -6.417360e-02 -1.416977e-01 -1.545250e-01   \n",
       "75%    5.706179e+00  3.194787e+00  2.649876e+00  1.873249e+00  2.032157e+00   \n",
       "max    4.190650e+01  2.052549e+01  1.647855e+01  2.308928e+01  1.191708e+01   \n",
       "\n",
       "                  5             6             7             8             9  \\\n",
       "count  4.000000e+03  4.000000e+03  4.000000e+03  4.000000e+03  4.000000e+03   \n",
       "mean   1.043610e-17  1.951772e-16  1.430488e-16 -2.412237e-16  6.580847e-17   \n",
       "std    2.898071e+00  2.590288e+00  2.214837e+00  2.175826e+00  2.036805e+00   \n",
       "min   -1.151606e+01 -6.848372e+00 -8.190248e+00 -6.658143e+00 -5.638952e+00   \n",
       "25%   -2.028758e+00 -1.690625e+00 -1.400258e+00 -1.418321e+00 -1.048579e+00   \n",
       "50%   -1.793890e-01 -8.211011e-02  3.706215e-03 -1.587031e-01 -1.939841e-01   \n",
       "75%    1.862257e+00  1.613543e+00  1.366865e+00  1.224433e+00  6.740905e-01   \n",
       "max    1.294227e+01  1.442746e+01  1.373804e+01  1.391239e+01  2.119347e+01   \n",
       "\n",
       "       ...            41            42            43            44  \\\n",
       "count  ...  4.000000e+03  4.000000e+03  4.000000e+03  4.000000e+03   \n",
       "mean   ... -2.208789e-16  9.697711e-17  3.967660e-16  6.243339e-16   \n",
       "std    ...  1.017721e+00  9.905358e-01  9.885335e-01  9.720861e-01   \n",
       "min    ... -5.208845e+00 -5.214630e+00 -3.905488e+00 -6.968832e+00   \n",
       "25%    ... -6.373015e-01 -5.892359e-01 -6.536322e-01 -5.972682e-01   \n",
       "50%    ...  1.309451e-02 -2.063838e-02  6.123746e-03 -1.601771e-02   \n",
       "75%    ...  6.223500e-01  5.527913e-01  6.415080e-01  6.037429e-01   \n",
       "max    ...  6.827875e+00  1.368076e+01  4.862496e+00  8.836113e+00   \n",
       "\n",
       "                 45            46            47            48            49  \\\n",
       "count  4.000000e+03  4.000000e+03  4.000000e+03  4.000000e+03  4.000000e+03   \n",
       "mean   5.597189e-16 -3.688716e-17 -4.696521e-16  4.357625e-18 -5.289727e-16   \n",
       "std    9.640381e-01  9.581234e-01  9.385330e-01  9.292261e-01  9.159119e-01   \n",
       "min   -5.051113e+00 -5.246564e+00 -5.239374e+00 -4.792478e+00 -5.232554e+00   \n",
       "25%   -5.925543e-01 -5.651667e-01 -5.939642e-01 -5.900847e-01 -5.718270e-01   \n",
       "50%    1.008460e-02  3.498735e-02  3.210461e-03 -9.561011e-03  1.020734e-02   \n",
       "75%    6.050462e-01  6.029267e-01  5.924228e-01  5.700348e-01  5.717450e-01   \n",
       "max    5.660672e+00  5.304269e+00  5.990156e+00  4.987436e+00  6.382930e+00   \n",
       "\n",
       "            target  \n",
       "count  4000.000000  \n",
       "mean     -0.026119  \n",
       "std       0.938427  \n",
       "min      -3.533816  \n",
       "25%      -0.599293  \n",
       "50%      -0.163023  \n",
       "75%       0.373401  \n",
       "max       7.729597  \n",
       "\n",
       "[8 rows x 51 columns]"
      ]
     },
     "execution_count": 10,
     "metadata": {},
     "output_type": "execute_result"
    }
   ],
   "source": [
    "data.describe()"
   ]
  },
  {
   "cell_type": "code",
   "execution_count": 11,
   "metadata": {},
   "outputs": [
    {
     "data": {
      "text/plain": [
       "<AxesSubplot:>"
      ]
     },
     "execution_count": 11,
     "metadata": {},
     "output_type": "execute_result"
    },
    {
     "data": {
      "image/png": "[encoded data removed]",
      "text/plain": [
       "<Figure size 432x288 with 2 Axes>"
      ]
     },
     "metadata": {
      "needs_background": "light"
     },
     "output_type": "display_data"
    }
   ],
   "source": [
    "sns.heatmap(data.isnull())"
   ]
  },
  {
   "cell_type": "code",
   "execution_count": 12,
   "metadata": {},
   "outputs": [
    {
     "data": {
      "text/plain": [
       "0         0\n",
       "1         0\n",
       "2         0\n",
       "3         0\n",
       "4         0\n",
       "5         0\n",
       "6         0\n",
       "7         0\n",
       "8         0\n",
       "9         0\n",
       "10        0\n",
       "11        0\n",
       "12        0\n",
       "13        0\n",
       "14        0\n",
       "15        0\n",
       "16        0\n",
       "17        0\n",
       "18        0\n",
       "19        0\n",
       "20        0\n",
       "21        0\n",
       "22        0\n",
       "23        0\n",
       "24        0\n",
       "25        0\n",
       "26        0\n",
       "27        0\n",
       "28        0\n",
       "29        0\n",
       "30        0\n",
       "31        0\n",
       "32        0\n",
       "33        0\n",
       "34        0\n",
       "35        0\n",
       "36        0\n",
       "37        0\n",
       "38        0\n",
       "39        0\n",
       "40        0\n",
       "41        0\n",
       "42        0\n",
       "43        0\n",
       "44        0\n",
       "45        0\n",
       "46        0\n",
       "47        0\n",
       "48        0\n",
       "49        0\n",
       "target    0\n",
       "dtype: int64"
      ]
     },
     "execution_count": 12,
     "metadata": {},
     "output_type": "execute_result"
    }
   ],
   "source": [
    "data.isnull().sum()"
   ]
  },
  {
   "cell_type": "markdown",
   "metadata": {},
   "source": [
    "<b> We can see that there are no null values present in the data </b>"
   ]
  },
  {
   "cell_type": "code",
   "execution_count": 13,
   "metadata": {},
   "outputs": [
    {
     "data": {
      "text/plain": [
       "<AxesSubplot:>"
      ]
     },
     "execution_count": 13,
     "metadata": {},
     "output_type": "execute_result"
    },
    {
     "data": {
      "image/png": "[encoded data removed]",
      "text/plain": [
       "<Figure size 432x288 with 1 Axes>"
      ]
     },
     "metadata": {
      "needs_background": "light"
     },
     "output_type": "display_data"
    }
   ],
   "source": [
    "data[0].hist()"
   ]
  },
  {
   "cell_type": "code",
   "execution_count": 14,
   "metadata": {
    "scrolled": true
   },
   "outputs": [
    {
     "data": {
      "text/plain": [
       "<AxesSubplot:>"
      ]
     },
     "execution_count": 14,
     "metadata": {},
     "output_type": "execute_result"
    },
    {
     "data": {
      "image/png": "[encoded data removed]",
      "text/plain": [
       "<Figure size 432x288 with 1 Axes>"
      ]
     },
     "metadata": {
      "needs_background": "light"
     },
     "output_type": "display_data"
    }
   ],
   "source": [
    "data[1].hist()"
   ]
  },
  {
   "cell_type": "code",
   "execution_count": 15,
   "metadata": {
    "scrolled": true
   },
   "outputs": [
    {
     "data": {
      "text/plain": [
       "<AxesSubplot:>"
      ]
     },
     "execution_count": 15,
     "metadata": {},
     "output_type": "execute_result"
    },
    {
     "data": {
      "image/png": "[encoded data removed]",
      "text/plain": [
       "<Figure size 432x288 with 1 Axes>"
      ]
     },
     "metadata": {
      "needs_background": "light"
     },
     "output_type": "display_data"
    }
   ],
   "source": [
    "data[10].hist()"
   ]
  },
  {
   "cell_type": "code",
   "execution_count": 16,
   "metadata": {
    "scrolled": true
   },
   "outputs": [
    {
     "data": {
      "text/plain": [
       "<AxesSubplot:>"
      ]
     },
     "execution_count": 16,
     "metadata": {},
     "output_type": "execute_result"
    },
    {
     "data": {
      "image/png": "[encoded data removed]",
      "text/plain": [
       "<Figure size 432x288 with 1 Axes>"
      ]
     },
     "metadata": {
      "needs_background": "light"
     },
     "output_type": "display_data"
    }
   ],
   "source": [
    "data[15].hist()"
   ]
  },
  {
   "cell_type": "code",
   "execution_count": 17,
   "metadata": {
    "scrolled": false
   },
   "outputs": [
    {
     "data": {
      "text/plain": [
       "<AxesSubplot:>"
      ]
     },
     "execution_count": 17,
     "metadata": {},
     "output_type": "execute_result"
    },
    {
     "data": {
      "image/png": "[encoded data removed]",
      "text/plain": [
       "<Figure size 432x288 with 1 Axes>"
      ]
     },
     "metadata": {
      "needs_background": "light"
     },
     "output_type": "display_data"
    }
   ],
   "source": [
    "data[25].hist()"
   ]
  },
  {
   "cell_type": "code",
   "execution_count": 18,
   "metadata": {},
   "outputs": [
    {
     "data": {
      "text/plain": [
       "<AxesSubplot:>"
      ]
     },
     "execution_count": 18,
     "metadata": {},
     "output_type": "execute_result"
    },
    {
     "data": {
      "image/png": "[encoded data removed]",
      "text/plain": [
       "<Figure size 432x288 with 1 Axes>"
      ]
     },
     "metadata": {
      "needs_background": "light"
     },
     "output_type": "display_data"
    }
   ],
   "source": [
    "data[28].hist()"
   ]
  },
  {
   "cell_type": "code",
   "execution_count": 19,
   "metadata": {
    "scrolled": true
   },
   "outputs": [
    {
     "data": {
      "text/plain": [
       "<AxesSubplot:>"
      ]
     },
     "execution_count": 19,
     "metadata": {},
     "output_type": "execute_result"
    },
    {
     "data": {
      "image/png": "[encoded data removed]",
      "text/plain": [
       "<Figure size 432x288 with 1 Axes>"
      ]
     },
     "metadata": {
      "needs_background": "light"
     },
     "output_type": "display_data"
    }
   ],
   "source": [
    "data[30].hist()"
   ]
  },
  {
   "cell_type": "code",
   "execution_count": 20,
   "metadata": {
    "scrolled": true
   },
   "outputs": [
    {
     "data": {
      "text/plain": [
       "<AxesSubplot:>"
      ]
     },
     "execution_count": 20,
     "metadata": {},
     "output_type": "execute_result"
    },
    {
     "data": {
      "image/png": "[encoded data removed]",
      "text/plain": [
       "<Figure size 432x288 with 1 Axes>"
      ]
     },
     "metadata": {
      "needs_background": "light"
     },
     "output_type": "display_data"
    }
   ],
   "source": [
    "data[33].hist()"
   ]
  },
  {
   "cell_type": "code",
   "execution_count": 21,
   "metadata": {},
   "outputs": [
    {
     "data": {
      "text/plain": [
       "<AxesSubplot:>"
      ]
     },
     "execution_count": 21,
     "metadata": {},
     "output_type": "execute_result"
    },
    {
     "data": {
      "image/png": "[encoded data removed]",
      "text/plain": [
       "<Figure size 432x288 with 1 Axes>"
      ]
     },
     "metadata": {
      "needs_background": "light"
     },
     "output_type": "display_data"
    }
   ],
   "source": [
    "data[36].hist()"
   ]
  },
  {
   "cell_type": "code",
   "execution_count": 22,
   "metadata": {
    "scrolled": true
   },
   "outputs": [
    {
     "data": {
      "text/plain": [
       "<AxesSubplot:>"
      ]
     },
     "execution_count": 22,
     "metadata": {},
     "output_type": "execute_result"
    },
    {
     "data": {
      "image/png": "[encoded data removed]",
      "text/plain": [
       "<Figure size 432x288 with 1 Axes>"
      ]
     },
     "metadata": {
      "needs_background": "light"
     },
     "output_type": "display_data"
    }
   ],
   "source": [
    "data[38].hist()"
   ]
  },
  {
   "cell_type": "code",
   "execution_count": 23,
   "metadata": {
    "scrolled": true
   },
   "outputs": [
    {
     "data": {
      "text/plain": [
       "<AxesSubplot:>"
      ]
     },
     "execution_count": 23,
     "metadata": {},
     "output_type": "execute_result"
    },
    {
     "data": {
      "image/png": "[encoded data removed]",
      "text/plain": [
       "<Figure size 432x288 with 1 Axes>"
      ]
     },
     "metadata": {
      "needs_background": "light"
     },
     "output_type": "display_data"
    }
   ],
   "source": [
    "data[40].hist()"
   ]
  },
  {
   "cell_type": "code",
   "execution_count": 24,
   "metadata": {
    "scrolled": true
   },
   "outputs": [
    {
     "data": {
      "text/plain": [
       "<AxesSubplot:>"
      ]
     },
     "execution_count": 24,
     "metadata": {},
     "output_type": "execute_result"
    },
    {
     "data": {
      "image/png": "[encoded data removed]",
      "text/plain": [
       "<Figure size 432x288 with 1 Axes>"
      ]
     },
     "metadata": {
      "needs_background": "light"
     },
     "output_type": "display_data"
    }
   ],
   "source": [
    "data[41].hist()"
   ]
  },
  {
   "cell_type": "code",
   "execution_count": 25,
   "metadata": {
    "scrolled": true
   },
   "outputs": [
    {
     "data": {
      "text/plain": [
       "<AxesSubplot:>"
      ]
     },
     "execution_count": 25,
     "metadata": {},
     "output_type": "execute_result"
    },
    {
     "data": {
      "image/png": "[encoded data removed]",
      "text/plain": [
       "<Figure size 432x288 with 1 Axes>"
      ]
     },
     "metadata": {
      "needs_background": "light"
     },
     "output_type": "display_data"
    }
   ],
   "source": [
    "data[42].hist()"
   ]
  },
  {
   "cell_type": "code",
   "execution_count": 26,
   "metadata": {
    "scrolled": true
   },
   "outputs": [
    {
     "data": {
      "text/plain": [
       "<AxesSubplot:>"
      ]
     },
     "execution_count": 26,
     "metadata": {},
     "output_type": "execute_result"
    },
    {
     "data": {
      "image/png": "[encoded data removed]",
      "text/plain": [
       "<Figure size 432x288 with 1 Axes>"
      ]
     },
     "metadata": {
      "needs_background": "light"
     },
     "output_type": "display_data"
    }
   ],
   "source": [
    "data[45].hist()"
   ]
  },
  {
   "cell_type": "code",
   "execution_count": 27,
   "metadata": {
    "scrolled": true
   },
   "outputs": [
    {
     "data": {
      "text/plain": [
       "<AxesSubplot:>"
      ]
     },
     "execution_count": 27,
     "metadata": {},
     "output_type": "execute_result"
    },
    {
     "data": {
      "image/png": "[encoded data removed]",
      "text/plain": [
       "<Figure size 432x288 with 1 Axes>"
      ]
     },
     "metadata": {
      "needs_background": "light"
     },
     "output_type": "display_data"
    }
   ],
   "source": [
    "data[47].hist()"
   ]
  },
  {
   "cell_type": "code",
   "execution_count": 28,
   "metadata": {
    "scrolled": true
   },
   "outputs": [
    {
     "data": {
      "text/plain": [
       "<AxesSubplot:>"
      ]
     },
     "execution_count": 28,
     "metadata": {},
     "output_type": "execute_result"
    },
    {
     "data": {
      "image/png": "[encoded data removed]",
      "text/plain": [
       "<Figure size 432x288 with 1 Axes>"
      ]
     },
     "metadata": {
      "needs_background": "light"
     },
     "output_type": "display_data"
    }
   ],
   "source": [
    "data[49].hist()"
   ]
  },
  {
   "cell_type": "code",
   "execution_count": 29,
   "metadata": {},
   "outputs": [
    {
     "data": {
      "text/plain": [
       "<AxesSubplot:>"
      ]
     },
     "execution_count": 29,
     "metadata": {},
     "output_type": "execute_result"
    },
    {
     "data": {
      "image/png": "[encoded data removed]",
      "text/plain": [
       "<Figure size 432x288 with 1 Axes>"
      ]
     },
     "metadata": {
      "needs_background": "light"
     },
     "output_type": "display_data"
    }
   ],
   "source": [
    "data['target'].hist()"
   ]
  },
  {
   "cell_type": "markdown",
   "metadata": {},
   "source": [
    "<b> X-axis: Class Intervals <br>\n",
    "Y-axis: Frequency of the Feature <br>\n",
    "These Graphs Depict the distribution of the data and how it is Spread out throughout the Class Intervals. We can see that for Most Features and the Target Feature, majority of the data lies along the Interval of [ -2 , 2 ]\n",
    "</b>"
   ]
  },
  {
   "cell_type": "code",
   "execution_count": 30,
   "metadata": {},
   "outputs": [
    {
     "data": {
      "text/plain": [
       "<AxesSubplot:>"
      ]
     },
     "execution_count": 30,
     "metadata": {},
     "output_type": "execute_result"
    },
    {
     "data": {
      "image/png": "[encoded data removed]",
      "text/plain": [
       "<Figure size 2160x2880 with 2 Axes>"
      ]
     },
     "metadata": {
      "needs_background": "light"
     },
     "output_type": "display_data"
    }
   ],
   "source": [
    "plt.figure(figsize = (30,40))\n",
    "sns.heatmap(data.corr())"
   ]
  },
  {
   "cell_type": "markdown",
   "metadata": {},
   "source": [
    "<b> We Can see that all the Features have Minimal or Negligible Correlation to each other but Target Variable has certain Correaltion with all the 50 Features that have been obtained after applying the Principal Component Analysis </b>"
   ]
  },
  {
   "cell_type": "markdown",
   "metadata": {},
   "source": [
    "<b> As we can see that the Target Variable has some sort of Correlation with all of the 50 Features, lets try to plot these Correlation Values to get a measure of the Correlation Varies Feature by Feature with the Final Target Variable </b>"
   ]
  },
  {
   "cell_type": "code",
   "execution_count": 31,
   "metadata": {},
   "outputs": [
    {
     "data": {
      "text/plain": [
       "0         0.137214\n",
       "1         0.008032\n",
       "2        -0.121504\n",
       "3         0.095358\n",
       "4        -0.032559\n",
       "5         0.027242\n",
       "6         0.150706\n",
       "7        -0.056237\n",
       "8        -0.058486\n",
       "9         0.008568\n",
       "10        0.015891\n",
       "11       -0.126970\n",
       "12       -0.052534\n",
       "13        0.035917\n",
       "14        0.012163\n",
       "15        0.066216\n",
       "16        0.075790\n",
       "17       -0.038518\n",
       "18        0.100341\n",
       "19       -0.024973\n",
       "20        0.053906\n",
       "21        0.038334\n",
       "22        0.020254\n",
       "23       -0.053294\n",
       "24       -0.049492\n",
       "25       -0.002514\n",
       "26       -0.026573\n",
       "27       -0.011497\n",
       "28       -0.046476\n",
       "29       -0.003252\n",
       "30        0.026642\n",
       "31        0.015236\n",
       "32       -0.008138\n",
       "33       -0.028175\n",
       "34       -0.041876\n",
       "35        0.015345\n",
       "36       -0.007582\n",
       "37       -0.023937\n",
       "38       -0.102437\n",
       "39       -0.006366\n",
       "40        0.034405\n",
       "41       -0.002387\n",
       "42       -0.005747\n",
       "43        0.022791\n",
       "44       -0.008599\n",
       "45       -0.007465\n",
       "46        0.042007\n",
       "47        0.000214\n",
       "48       -0.019095\n",
       "49        0.003223\n",
       "target    1.000000\n",
       "Name: target, dtype: float64"
      ]
     },
     "execution_count": 31,
     "metadata": {},
     "output_type": "execute_result"
    }
   ],
   "source": [
    "data.corr()['target']"
   ]
  },
  {
   "cell_type": "code",
   "execution_count": 32,
   "metadata": {},
   "outputs": [
    {
     "data": {
      "text/html": [
       "<div>\n",
       "<style scoped>\n",
       "    .dataframe tbody tr th:only-of-type {\n",
       "        vertical-align: middle;\n",
       "    }\n",
       "\n",
       "    .dataframe tbody tr th {\n",
       "        vertical-align: top;\n",
       "    }\n",
       "\n",
       "    .dataframe thead th {\n",
       "        text-align: right;\n",
       "    }\n",
       "</style>\n",
       "<table border=\"1\" class=\"dataframe\">\n",
       "  <thead>\n",
       "    <tr style=\"text-align: right;\">\n",
       "      <th></th>\n",
       "      <th>target</th>\n",
       "    </tr>\n",
       "  </thead>\n",
       "  <tbody>\n",
       "    <tr>\n",
       "      <th>0</th>\n",
       "      <td>0.137214</td>\n",
       "    </tr>\n",
       "    <tr>\n",
       "      <th>1</th>\n",
       "      <td>0.008032</td>\n",
       "    </tr>\n",
       "    <tr>\n",
       "      <th>2</th>\n",
       "      <td>-0.121504</td>\n",
       "    </tr>\n",
       "    <tr>\n",
       "      <th>3</th>\n",
       "      <td>0.095358</td>\n",
       "    </tr>\n",
       "    <tr>\n",
       "      <th>4</th>\n",
       "      <td>-0.032559</td>\n",
       "    </tr>\n",
       "    <tr>\n",
       "      <th>5</th>\n",
       "      <td>0.027242</td>\n",
       "    </tr>\n",
       "    <tr>\n",
       "      <th>6</th>\n",
       "      <td>0.150706</td>\n",
       "    </tr>\n",
       "    <tr>\n",
       "      <th>7</th>\n",
       "      <td>-0.056237</td>\n",
       "    </tr>\n",
       "    <tr>\n",
       "      <th>8</th>\n",
       "      <td>-0.058486</td>\n",
       "    </tr>\n",
       "    <tr>\n",
       "      <th>9</th>\n",
       "      <td>0.008568</td>\n",
       "    </tr>\n",
       "  </tbody>\n",
       "</table>\n",
       "</div>"
      ],
      "text/plain": [
       "     target\n",
       "0  0.137214\n",
       "1  0.008032\n",
       "2 -0.121504\n",
       "3  0.095358\n",
       "4 -0.032559\n",
       "5  0.027242\n",
       "6  0.150706\n",
       "7 -0.056237\n",
       "8 -0.058486\n",
       "9  0.008568"
      ]
     },
     "execution_count": 32,
     "metadata": {},
     "output_type": "execute_result"
    }
   ],
   "source": [
    "target_corr = pd.DataFrame(data.corr()['target'])\n",
    "target_corr.head(10)"
   ]
  },
  {
   "cell_type": "code",
   "execution_count": 34,
   "metadata": {},
   "outputs": [
    {
     "data": {
      "text/plain": [
       "Text(0, 0.5, 'Correlation')"
      ]
     },
     "execution_count": 34,
     "metadata": {},
     "output_type": "execute_result"
    },
    {
     "data": {
      "image/png": "[encoded data removed]",
      "text/plain": [
       "<Figure size 432x288 with 1 Axes>"
      ]
     },
     "metadata": {
      "needs_background": "light"
     },
     "output_type": "display_data"
    }
   ],
   "source": [
    "target_corr.plot()\n",
    "plt.xlabel('Features')\n",
    "plt.ylabel('Correlation')"
   ]
  },
  {
   "cell_type": "markdown",
   "metadata": {},
   "source": [
    "The X-axis represent the Feature Numbers<br>\n",
    "The Y-axis represent the Correlation Values<br><br>\n",
    "\n",
    "<b>The Plot Above shows the Correlation Plot of All the Features with the Target Variable, It is Quite Visible that while some of them have a Positive Correlation there are some features that have a negative Correlation with the Target Variable as well</b>"
   ]
  }
 ],
 "metadata": {
  "interpreter": {
   "hash": "aee8b7b246df8f9039afb4144a1f6fd8d2ca17a180786b69acc140d282b71a49"
  },
  "kernelspec": {
   "display_name": "Python 3 (ipykernel)",
   "language": "python",
   "name": "python3"
  },
  "language_info": {
   "codemirror_mode": {
    "name": "ipython",
    "version": 3
   },
   "file_extension": ".py",
   "mimetype": "text/x-python",
   "name": "python",
   "nbconvert_exporter": "python",
   "pygments_lexer": "ipython3",
   "version": "3.9.7"
  }
 },
 "nbformat": 4,
 "nbformat_minor": 2
}
